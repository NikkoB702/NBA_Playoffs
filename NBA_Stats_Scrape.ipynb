{
 "cells": [
  {
   "cell_type": "code",
   "execution_count": null,
   "id": "ef8667b7",
   "metadata": {},
   "outputs": [],
   "source": [
    "import pandas as pd\n",
    "\n",
    "url = \"https://www.basketball-reference.com/leagues/NBA_2023.html\"\n",
    "tables = pd.read_html(url, match=\"Per Game Stats\")\n",
    "df = tables[0]\n",
    "\n",
    "csv_file_path = \"per_game_stats.csv\"\n",
    "df.to_csv(csv_file_path, index=False)"
   ]
  },
  {
   "cell_type": "code",
   "execution_count": null,
   "id": "e8c99f0e",
   "metadata": {},
   "outputs": [],
   "source": [
    "import pandas as pd\n",
    "\n",
    "url = \"https://www.basketball-reference.com/leagues/NBA_2023.html\"\n",
    "tables = pd.read_html(url, match=\"Per 100 Poss Stats\")\n",
    "df = tables[0]\n",
    "\n",
    "csv_file_path = \"per_100_poss_stats.csv\"\n",
    "df.to_csv(csv_file_path, index=False)"
   ]
  },
  {
   "cell_type": "code",
   "execution_count": null,
   "id": "788abbe9",
   "metadata": {},
   "outputs": [],
   "source": [
    "import pandas as pd\n",
    "\n",
    "url = \"https://www.basketball-reference.com/leagues/NBA_2023.html\"\n",
    "tables = pd.read_html(url, match=\"Advanced Stats\")\n",
    "df = tables[0]\n",
    "\n",
    "csv_file_path = \"advanced_stats.csv\"\n",
    "df.to_csv(csv_file_path, index=False)"
   ]
  },
  {
   "cell_type": "code",
   "execution_count": 2,
   "id": "a55bb5ad",
   "metadata": {},
   "outputs": [],
   "source": [
    "import pandas as pd\n",
    "\n",
    "url = \"https://www.basketball-reference.com/leagues/NBA_2023.html\"\n",
    "tables = pd.read_html(url, match=\"Shooting Stats\")\n",
    "df = tables[0]\n",
    "\n",
    "csv_file_path = \"shooting_stats.csv\"\n",
    "df.to_csv(csv_file_path, index=False)"
   ]
  },
  {
   "cell_type": "code",
   "execution_count": null,
   "id": "e4146e54",
   "metadata": {},
   "outputs": [],
   "source": []
  },
  {
   "cell_type": "code",
   "execution_count": null,
   "id": "5be48aff",
   "metadata": {},
   "outputs": [],
   "source": []
  },
  {
   "cell_type": "code",
   "execution_count": null,
   "id": "ae243000",
   "metadata": {},
   "outputs": [],
   "source": []
  },
  {
   "cell_type": "code",
   "execution_count": null,
   "id": "ba6371e7",
   "metadata": {},
   "outputs": [],
   "source": []
  }
 ],
 "metadata": {
  "kernelspec": {
   "display_name": "PythonData",
   "language": "python",
   "name": "pythondata"
  },
  "language_info": {
   "codemirror_mode": {
    "name": "ipython",
    "version": 3
   },
   "file_extension": ".py",
   "mimetype": "text/x-python",
   "name": "python",
   "nbconvert_exporter": "python",
   "pygments_lexer": "ipython3",
   "version": "3.9.12"
  }
 },
 "nbformat": 4,
 "nbformat_minor": 5
}
